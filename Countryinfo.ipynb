{
  "nbformat": 4,
  "nbformat_minor": 0,
  "metadata": {
    "colab": {
      "name": "Countryinfo.ipynb",
      "provenance": [],
      "authorship_tag": "ABX9TyPJFsrQ1cFdktREGMcvWF5B",
      "include_colab_link": true
    },
    "kernelspec": {
      "name": "python3",
      "display_name": "Python 3"
    },
    "language_info": {
      "name": "python"
    }
  },
  "cells": [
    {
      "cell_type": "markdown",
      "metadata": {
        "id": "view-in-github",
        "colab_type": "text"
      },
      "source": [
        "<a href=\"https://colab.research.google.com/github/Dubaifinest/Dubaifinest/blob/main/Countryinfo.ipynb\" target=\"_parent\"><img src=\"https://colab.research.google.com/assets/colab-badge.svg\" alt=\"Open In Colab\"/></a>"
      ]
    },
    {
      "cell_type": "code",
      "source": [
        "pip install countryinfo"
      ],
      "metadata": {
        "colab": {
          "base_uri": "https://localhost:8080/"
        },
        "id": "TbJb1B289Dti",
        "outputId": "07900fb4-4feb-4c27-9f12-c69bb81c465f"
      },
      "execution_count": 3,
      "outputs": [
        {
          "output_type": "stream",
          "name": "stdout",
          "text": [
            "Collecting countryinfo\n",
            "  Downloading countryinfo-0.1.2-py3-none-any.whl (602 kB)\n",
            "\u001b[?25l\r\u001b[K     |▌                               | 10 kB 14.4 MB/s eta 0:00:01\r\u001b[K     |█                               | 20 kB 18.0 MB/s eta 0:00:01\r\u001b[K     |█▋                              | 30 kB 22.6 MB/s eta 0:00:01\r\u001b[K     |██▏                             | 40 kB 25.1 MB/s eta 0:00:01\r\u001b[K     |██▊                             | 51 kB 23.1 MB/s eta 0:00:01\r\u001b[K     |███▎                            | 61 kB 25.5 MB/s eta 0:00:01\r\u001b[K     |███▉                            | 71 kB 26.5 MB/s eta 0:00:01\r\u001b[K     |████▍                           | 81 kB 22.4 MB/s eta 0:00:01\r\u001b[K     |█████                           | 92 kB 23.4 MB/s eta 0:00:01\r\u001b[K     |█████▍                          | 102 kB 25.0 MB/s eta 0:00:01\r\u001b[K     |██████                          | 112 kB 25.0 MB/s eta 0:00:01\r\u001b[K     |██████▌                         | 122 kB 25.0 MB/s eta 0:00:01\r\u001b[K     |███████                         | 133 kB 25.0 MB/s eta 0:00:01\r\u001b[K     |███████▋                        | 143 kB 25.0 MB/s eta 0:00:01\r\u001b[K     |████████▏                       | 153 kB 25.0 MB/s eta 0:00:01\r\u001b[K     |████████▊                       | 163 kB 25.0 MB/s eta 0:00:01\r\u001b[K     |█████████▎                      | 174 kB 25.0 MB/s eta 0:00:01\r\u001b[K     |█████████▉                      | 184 kB 25.0 MB/s eta 0:00:01\r\u001b[K     |██████████▍                     | 194 kB 25.0 MB/s eta 0:00:01\r\u001b[K     |██████████▉                     | 204 kB 25.0 MB/s eta 0:00:01\r\u001b[K     |███████████▍                    | 215 kB 25.0 MB/s eta 0:00:01\r\u001b[K     |████████████                    | 225 kB 25.0 MB/s eta 0:00:01\r\u001b[K     |████████████▌                   | 235 kB 25.0 MB/s eta 0:00:01\r\u001b[K     |█████████████                   | 245 kB 25.0 MB/s eta 0:00:01\r\u001b[K     |█████████████▋                  | 256 kB 25.0 MB/s eta 0:00:01\r\u001b[K     |██████████████▏                 | 266 kB 25.0 MB/s eta 0:00:01\r\u001b[K     |██████████████▊                 | 276 kB 25.0 MB/s eta 0:00:01\r\u001b[K     |███████████████▎                | 286 kB 25.0 MB/s eta 0:00:01\r\u001b[K     |███████████████▉                | 296 kB 25.0 MB/s eta 0:00:01\r\u001b[K     |████████████████▎               | 307 kB 25.0 MB/s eta 0:00:01\r\u001b[K     |████████████████▉               | 317 kB 25.0 MB/s eta 0:00:01\r\u001b[K     |█████████████████▍              | 327 kB 25.0 MB/s eta 0:00:01\r\u001b[K     |██████████████████              | 337 kB 25.0 MB/s eta 0:00:01\r\u001b[K     |██████████████████▌             | 348 kB 25.0 MB/s eta 0:00:01\r\u001b[K     |███████████████████             | 358 kB 25.0 MB/s eta 0:00:01\r\u001b[K     |███████████████████▋            | 368 kB 25.0 MB/s eta 0:00:01\r\u001b[K     |████████████████████▏           | 378 kB 25.0 MB/s eta 0:00:01\r\u001b[K     |████████████████████▊           | 389 kB 25.0 MB/s eta 0:00:01\r\u001b[K     |█████████████████████▏          | 399 kB 25.0 MB/s eta 0:00:01\r\u001b[K     |█████████████████████▊          | 409 kB 25.0 MB/s eta 0:00:01\r\u001b[K     |██████████████████████▎         | 419 kB 25.0 MB/s eta 0:00:01\r\u001b[K     |██████████████████████▉         | 430 kB 25.0 MB/s eta 0:00:01\r\u001b[K     |███████████████████████▍        | 440 kB 25.0 MB/s eta 0:00:01\r\u001b[K     |████████████████████████        | 450 kB 25.0 MB/s eta 0:00:01\r\u001b[K     |████████████████████████▌       | 460 kB 25.0 MB/s eta 0:00:01\r\u001b[K     |█████████████████████████       | 471 kB 25.0 MB/s eta 0:00:01\r\u001b[K     |█████████████████████████▋      | 481 kB 25.0 MB/s eta 0:00:01\r\u001b[K     |██████████████████████████▏     | 491 kB 25.0 MB/s eta 0:00:01\r\u001b[K     |██████████████████████████▋     | 501 kB 25.0 MB/s eta 0:00:01\r\u001b[K     |███████████████████████████▏    | 512 kB 25.0 MB/s eta 0:00:01\r\u001b[K     |███████████████████████████▊    | 522 kB 25.0 MB/s eta 0:00:01\r\u001b[K     |████████████████████████████▎   | 532 kB 25.0 MB/s eta 0:00:01\r\u001b[K     |████████████████████████████▉   | 542 kB 25.0 MB/s eta 0:00:01\r\u001b[K     |█████████████████████████████▍  | 552 kB 25.0 MB/s eta 0:00:01\r\u001b[K     |██████████████████████████████  | 563 kB 25.0 MB/s eta 0:00:01\r\u001b[K     |██████████████████████████████▌ | 573 kB 25.0 MB/s eta 0:00:01\r\u001b[K     |███████████████████████████████ | 583 kB 25.0 MB/s eta 0:00:01\r\u001b[K     |███████████████████████████████▋| 593 kB 25.0 MB/s eta 0:00:01\r\u001b[K     |████████████████████████████████| 602 kB 25.0 MB/s \n",
            "\u001b[?25hInstalling collected packages: countryinfo\n",
            "Successfully installed countryinfo-0.1.2\n"
          ]
        }
      ]
    },
    {
      "cell_type": "code",
      "execution_count": 11,
      "metadata": {
        "colab": {
          "base_uri": "https://localhost:8080/"
        },
        "id": "wK0QuRBi7BNn",
        "outputId": "1b62125a-4c72-45ab-9284-cb39779f3928"
      },
      "outputs": [
        {
          "output_type": "stream",
          "name": "stdout",
          "text": [
            "Enter your country : UAE\n",
            "Capital is :  Abu Dhabi\n",
            "Currency is :  ['AED']\n",
            "lanuage is :  ['ar']\n",
            "Borders are :  ['OMN', 'SAU']\n",
            "others names :  ['AE', 'UAE']\n"
          ]
        }
      ],
      "source": [
        "from countryinfo import CountryInfo\n",
        "count=input(\"Enter your country : \")\n",
        "country = CountryInfo(count)\n",
        "print(\"Capital is : \",country.capital())\n",
        "print(\"Currency is : \",country.currencies())\n",
        "print(\"lanuage is : \",country.languages())\n",
        "print(\"Borders are : \",country.borders())\n",
        "print(\"others names : \",country.alt_spellings())"
      ]
    }
  ]
}